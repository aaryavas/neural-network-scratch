{
 "cells": [
  {
   "cell_type": "code",
   "execution_count": null,
   "metadata": {
    "_cell_guid": "b1076dfc-b9ad-4769-8c92-a6c4dae69d19",
    "_uuid": "8f2839f25d086af736a60e9eeb907d3b93b6e0e5",
    "execution": {
     "iopub.execute_input": "2024-11-07T22:18:22.188208Z",
     "iopub.status.busy": "2024-11-07T22:18:22.187736Z",
     "iopub.status.idle": "2024-11-07T22:18:22.195139Z",
     "shell.execute_reply": "2024-11-07T22:18:22.193503Z",
     "shell.execute_reply.started": "2024-11-07T22:18:22.188162Z"
    },
    "trusted": true
   },
   "outputs": [],
   "source": [
    "import numpy as np #for linear algebra\n",
    "import pandas as pd #reading the data\n",
    "from matplotlib import pyplot as plt #for showing \n",
    "import os\n"
   ]
  },
  {
   "cell_type": "code",
   "execution_count": null,
   "metadata": {},
   "outputs": [
    {
     "name": "stdout",
     "output_type": "stream",
     "text": [
      "Defaulting to user installation because normal site-packages is not writeable\n",
      "Requirement already satisfied: pandas in c:\\users\\aarya\\appdata\\local\\packages\\pythonsoftwarefoundation.python.3.12_qbz5n2kfra8p0\\localcache\\local-packages\\python312\\site-packages (2.2.3)\n",
      "Requirement already satisfied: numpy>=1.26.0 in c:\\users\\aarya\\appdata\\local\\packages\\pythonsoftwarefoundation.python.3.12_qbz5n2kfra8p0\\localcache\\local-packages\\python312\\site-packages (from pandas) (1.26.4)\n",
      "Requirement already satisfied: python-dateutil>=2.8.2 in c:\\users\\aarya\\appdata\\local\\packages\\pythonsoftwarefoundation.python.3.12_qbz5n2kfra8p0\\localcache\\local-packages\\python312\\site-packages (from pandas) (2.9.0.post0)\n",
      "Requirement already satisfied: pytz>=2020.1 in c:\\users\\aarya\\appdata\\local\\packages\\pythonsoftwarefoundation.python.3.12_qbz5n2kfra8p0\\localcache\\local-packages\\python312\\site-packages (from pandas) (2024.2)\n",
      "Requirement already satisfied: tzdata>=2022.7 in c:\\users\\aarya\\appdata\\local\\packages\\pythonsoftwarefoundation.python.3.12_qbz5n2kfra8p0\\localcache\\local-packages\\python312\\site-packages (from pandas) (2024.2)\n",
      "Requirement already satisfied: six>=1.5 in c:\\users\\aarya\\appdata\\local\\packages\\pythonsoftwarefoundation.python.3.12_qbz5n2kfra8p0\\localcache\\local-packages\\python312\\site-packages (from python-dateutil>=2.8.2->pandas) (1.16.0)\n",
      "Note: you may need to restart the kernel to use updated packages.\n"
     ]
    },
    {
     "name": "stderr",
     "output_type": "stream",
     "text": [
      "\n",
      "[notice] A new release of pip is available: 24.2 -> 24.3.1\n",
      "[notice] To update, run: C:\\Users\\aarya\\AppData\\Local\\Microsoft\\WindowsApps\\PythonSoftwareFoundation.Python.3.12_qbz5n2kfra8p0\\python.exe -m pip install --upgrade pip\n"
     ]
    }
   ],
   "source": [
    "\n"
   ]
  },
  {
   "cell_type": "markdown",
   "metadata": {},
   "source": [
    "Import the dataset that we are using"
   ]
  },
  {
   "cell_type": "code",
   "execution_count": 15,
   "metadata": {
    "execution": {
     "iopub.execute_input": "2024-11-07T22:20:09.106537Z",
     "iopub.status.busy": "2024-11-07T22:20:09.106000Z",
     "iopub.status.idle": "2024-11-07T22:20:12.538975Z",
     "shell.execute_reply": "2024-11-07T22:20:12.537753Z",
     "shell.execute_reply.started": "2024-11-07T22:20:09.106482Z"
    },
    "trusted": true
   },
   "outputs": [
    {
     "data": {
      "text/html": [
       "<div>\n",
       "<style scoped>\n",
       "    .dataframe tbody tr th:only-of-type {\n",
       "        vertical-align: middle;\n",
       "    }\n",
       "\n",
       "    .dataframe tbody tr th {\n",
       "        vertical-align: top;\n",
       "    }\n",
       "\n",
       "    .dataframe thead th {\n",
       "        text-align: right;\n",
       "    }\n",
       "</style>\n",
       "<table border=\"1\" class=\"dataframe\">\n",
       "  <thead>\n",
       "    <tr style=\"text-align: right;\">\n",
       "      <th></th>\n",
       "      <th>label</th>\n",
       "      <th>pixel0</th>\n",
       "      <th>pixel1</th>\n",
       "      <th>pixel2</th>\n",
       "      <th>pixel3</th>\n",
       "      <th>pixel4</th>\n",
       "      <th>pixel5</th>\n",
       "      <th>pixel6</th>\n",
       "      <th>pixel7</th>\n",
       "      <th>pixel8</th>\n",
       "      <th>...</th>\n",
       "      <th>pixel774</th>\n",
       "      <th>pixel775</th>\n",
       "      <th>pixel776</th>\n",
       "      <th>pixel777</th>\n",
       "      <th>pixel778</th>\n",
       "      <th>pixel779</th>\n",
       "      <th>pixel780</th>\n",
       "      <th>pixel781</th>\n",
       "      <th>pixel782</th>\n",
       "      <th>pixel783</th>\n",
       "    </tr>\n",
       "  </thead>\n",
       "  <tbody>\n",
       "    <tr>\n",
       "      <th>0</th>\n",
       "      <td>1</td>\n",
       "      <td>0</td>\n",
       "      <td>0</td>\n",
       "      <td>0</td>\n",
       "      <td>0</td>\n",
       "      <td>0</td>\n",
       "      <td>0</td>\n",
       "      <td>0</td>\n",
       "      <td>0</td>\n",
       "      <td>0</td>\n",
       "      <td>...</td>\n",
       "      <td>0</td>\n",
       "      <td>0</td>\n",
       "      <td>0</td>\n",
       "      <td>0</td>\n",
       "      <td>0</td>\n",
       "      <td>0</td>\n",
       "      <td>0</td>\n",
       "      <td>0</td>\n",
       "      <td>0</td>\n",
       "      <td>0</td>\n",
       "    </tr>\n",
       "    <tr>\n",
       "      <th>1</th>\n",
       "      <td>0</td>\n",
       "      <td>0</td>\n",
       "      <td>0</td>\n",
       "      <td>0</td>\n",
       "      <td>0</td>\n",
       "      <td>0</td>\n",
       "      <td>0</td>\n",
       "      <td>0</td>\n",
       "      <td>0</td>\n",
       "      <td>0</td>\n",
       "      <td>...</td>\n",
       "      <td>0</td>\n",
       "      <td>0</td>\n",
       "      <td>0</td>\n",
       "      <td>0</td>\n",
       "      <td>0</td>\n",
       "      <td>0</td>\n",
       "      <td>0</td>\n",
       "      <td>0</td>\n",
       "      <td>0</td>\n",
       "      <td>0</td>\n",
       "    </tr>\n",
       "    <tr>\n",
       "      <th>2</th>\n",
       "      <td>1</td>\n",
       "      <td>0</td>\n",
       "      <td>0</td>\n",
       "      <td>0</td>\n",
       "      <td>0</td>\n",
       "      <td>0</td>\n",
       "      <td>0</td>\n",
       "      <td>0</td>\n",
       "      <td>0</td>\n",
       "      <td>0</td>\n",
       "      <td>...</td>\n",
       "      <td>0</td>\n",
       "      <td>0</td>\n",
       "      <td>0</td>\n",
       "      <td>0</td>\n",
       "      <td>0</td>\n",
       "      <td>0</td>\n",
       "      <td>0</td>\n",
       "      <td>0</td>\n",
       "      <td>0</td>\n",
       "      <td>0</td>\n",
       "    </tr>\n",
       "    <tr>\n",
       "      <th>3</th>\n",
       "      <td>4</td>\n",
       "      <td>0</td>\n",
       "      <td>0</td>\n",
       "      <td>0</td>\n",
       "      <td>0</td>\n",
       "      <td>0</td>\n",
       "      <td>0</td>\n",
       "      <td>0</td>\n",
       "      <td>0</td>\n",
       "      <td>0</td>\n",
       "      <td>...</td>\n",
       "      <td>0</td>\n",
       "      <td>0</td>\n",
       "      <td>0</td>\n",
       "      <td>0</td>\n",
       "      <td>0</td>\n",
       "      <td>0</td>\n",
       "      <td>0</td>\n",
       "      <td>0</td>\n",
       "      <td>0</td>\n",
       "      <td>0</td>\n",
       "    </tr>\n",
       "    <tr>\n",
       "      <th>4</th>\n",
       "      <td>0</td>\n",
       "      <td>0</td>\n",
       "      <td>0</td>\n",
       "      <td>0</td>\n",
       "      <td>0</td>\n",
       "      <td>0</td>\n",
       "      <td>0</td>\n",
       "      <td>0</td>\n",
       "      <td>0</td>\n",
       "      <td>0</td>\n",
       "      <td>...</td>\n",
       "      <td>0</td>\n",
       "      <td>0</td>\n",
       "      <td>0</td>\n",
       "      <td>0</td>\n",
       "      <td>0</td>\n",
       "      <td>0</td>\n",
       "      <td>0</td>\n",
       "      <td>0</td>\n",
       "      <td>0</td>\n",
       "      <td>0</td>\n",
       "    </tr>\n",
       "  </tbody>\n",
       "</table>\n",
       "<p>5 rows × 785 columns</p>\n",
       "</div>"
      ],
      "text/plain": [
       "   label  pixel0  pixel1  pixel2  pixel3  pixel4  pixel5  pixel6  pixel7  \\\n",
       "0      1       0       0       0       0       0       0       0       0   \n",
       "1      0       0       0       0       0       0       0       0       0   \n",
       "2      1       0       0       0       0       0       0       0       0   \n",
       "3      4       0       0       0       0       0       0       0       0   \n",
       "4      0       0       0       0       0       0       0       0       0   \n",
       "\n",
       "   pixel8  ...  pixel774  pixel775  pixel776  pixel777  pixel778  pixel779  \\\n",
       "0       0  ...         0         0         0         0         0         0   \n",
       "1       0  ...         0         0         0         0         0         0   \n",
       "2       0  ...         0         0         0         0         0         0   \n",
       "3       0  ...         0         0         0         0         0         0   \n",
       "4       0  ...         0         0         0         0         0         0   \n",
       "\n",
       "   pixel780  pixel781  pixel782  pixel783  \n",
       "0         0         0         0         0  \n",
       "1         0         0         0         0  \n",
       "2         0         0         0         0  \n",
       "3         0         0         0         0  \n",
       "4         0         0         0         0  \n",
       "\n",
       "[5 rows x 785 columns]"
      ]
     },
     "execution_count": 15,
     "metadata": {},
     "output_type": "execute_result"
    }
   ],
   "source": [
    "data = pd.read_csv(r\"train.csv\\train.csv\")\n",
    "data.head() #will give us a preview of each pixel value"
   ]
  },
  {
   "cell_type": "code",
   "execution_count": 16,
   "metadata": {
    "execution": {
     "iopub.execute_input": "2024-11-07T22:20:43.694894Z",
     "iopub.status.busy": "2024-11-07T22:20:43.694450Z",
     "iopub.status.idle": "2024-11-07T22:20:44.807726Z",
     "shell.execute_reply": "2024-11-07T22:20:44.806485Z",
     "shell.execute_reply.started": "2024-11-07T22:20:43.694859Z"
    },
    "trusted": true
   },
   "outputs": [],
   "source": [
    "data = np.array(data)\n",
    "m, n = data.shape\n",
    "np.random.shuffle(data) # shuffle before splitting into dev and training sets\n",
    "\n",
    "data_dev = data[0:1000].T\n",
    "Y_dev = data_dev[0]\n",
    "X_dev = data_dev[1:n]\n",
    "X_dev = X_dev / 255.\n",
    "\n",
    "data_train = data[1000:m].T\n",
    "Y_train = data_train[0]\n",
    "X_train = data_train[1:n]\n",
    "X_train = X_train / 255.\n",
    "_,m_train = X_train.shape"
   ]
  },
  {
   "cell_type": "code",
   "execution_count": 18,
   "metadata": {
    "execution": {
     "iopub.execute_input": "2024-11-07T22:20:49.188153Z",
     "iopub.status.busy": "2024-11-07T22:20:49.187743Z",
     "iopub.status.idle": "2024-11-07T22:20:49.205253Z",
     "shell.execute_reply": "2024-11-07T22:20:49.203755Z",
     "shell.execute_reply.started": "2024-11-07T22:20:49.188122Z"
    },
    "trusted": true
   },
   "outputs": [],
   "source": [
    "def init_params():\n",
    "    W1 = np.random.rand(10, 784) - 0.5\n",
    "    b1 = np.random.rand(10, 1) - 0.5\n",
    "    W2 = np.random.rand(10, 10) - 0.5\n",
    "    b2 = np.random.rand(10, 1) - 0.5\n",
    "    return W1, b1, W2, b2\n",
    "\n",
    "def ReLU(Z):\n",
    "    return np.maximum(Z, 0)\n",
    "\n",
    "def softmax(Z):\n",
    "    A = np.exp(Z) / sum(np.exp(Z))\n",
    "    return A\n",
    "    \n",
    "def forward_prop(W1, b1, W2, b2, X):\n",
    "    Z1 = W1.dot(X) + b1\n",
    "    A1 = ReLU(Z1)\n",
    "    Z2 = W2.dot(A1) + b2\n",
    "    A2 = softmax(Z2)\n",
    "    return Z1, A1, Z2, A2\n",
    "\n",
    "def ReLU_deriv(Z):\n",
    "    return Z > 0\n",
    "\n",
    "def one_hot(Y):\n",
    "    one_hot_Y = np.zeros((Y.size, Y.max() + 1))\n",
    "    one_hot_Y[np.arange(Y.size), Y] = 1\n",
    "    one_hot_Y = one_hot_Y.T\n",
    "    return one_hot_Y\n",
    "\n",
    "def backward_prop(Z1, A1, Z2, A2, W1, W2, X, Y):\n",
    "    one_hot_Y = one_hot(Y)\n",
    "    dZ2 = A2 - one_hot_Y\n",
    "    dW2 = 1 / m * dZ2.dot(A1.T)\n",
    "    db2 = 1 / m * np.sum(dZ2)\n",
    "    dZ1 = W2.T.dot(dZ2) * ReLU_deriv(Z1)\n",
    "    dW1 = 1 / m * dZ1.dot(X.T)\n",
    "    db1 = 1 / m * np.sum(dZ1)\n",
    "    return dW1, db1, dW2, db2\n",
    "\n",
    "def update_params(W1, b1, W2, b2, dW1, db1, dW2, db2, alpha):\n",
    "    W1 = W1 - alpha * dW1\n",
    "    b1 = b1 - alpha * db1    \n",
    "    W2 = W2 - alpha * dW2  \n",
    "    b2 = b2 - alpha * db2    \n",
    "    return W1, b1, W2, b2"
   ]
  },
  {
   "cell_type": "code",
   "execution_count": 19,
   "metadata": {
    "execution": {
     "iopub.execute_input": "2024-11-07T22:20:53.341668Z",
     "iopub.status.busy": "2024-11-07T22:20:53.341193Z",
     "iopub.status.idle": "2024-11-07T22:20:53.352767Z",
     "shell.execute_reply": "2024-11-07T22:20:53.351162Z",
     "shell.execute_reply.started": "2024-11-07T22:20:53.341631Z"
    },
    "trusted": true
   },
   "outputs": [],
   "source": [
    "def get_predictions(A2):\n",
    "    return np.argmax(A2, 0)\n",
    "\n",
    "def get_accuracy(predictions, Y):\n",
    "    print(predictions, Y)\n",
    "    return np.sum(predictions == Y) / Y.size\n",
    "\n",
    "def gradient_descent(X, Y, alpha, iterations):\n",
    "    W1, b1, W2, b2 = init_params()\n",
    "    for i in range(iterations):\n",
    "        Z1, A1, Z2, A2 = forward_prop(W1, b1, W2, b2, X)\n",
    "        dW1, db1, dW2, db2 = backward_prop(Z1, A1, Z2, A2, W1, W2, X, Y)\n",
    "        W1, b1, W2, b2 = update_params(W1, b1, W2, b2, dW1, db1, dW2, db2, alpha)\n",
    "        if i % 10 == 0:\n",
    "            print(\"Iteration: \", i)\n",
    "            predictions = get_predictions(A2)\n",
    "            print(get_accuracy(predictions, Y))\n",
    "    return W1, b1, W2, b2"
   ]
  },
  {
   "cell_type": "code",
   "execution_count": 20,
   "metadata": {
    "execution": {
     "iopub.execute_input": "2024-11-07T22:20:55.522163Z",
     "iopub.status.busy": "2024-11-07T22:20:55.521761Z",
     "iopub.status.idle": "2024-11-07T22:22:12.715403Z",
     "shell.execute_reply": "2024-11-07T22:22:12.713580Z",
     "shell.execute_reply.started": "2024-11-07T22:20:55.522130Z"
    },
    "trusted": true
   },
   "outputs": [
    {
     "name": "stdout",
     "output_type": "stream",
     "text": [
      "Iteration:  0\n",
      "[7 6 6 ... 7 6 7] [8 2 5 ... 3 2 9]\n",
      "0.08131707317073171\n",
      "Iteration:  10\n",
      "[2 8 4 ... 2 6 7] [8 2 5 ... 3 2 9]\n",
      "0.15902439024390244\n",
      "Iteration:  20\n",
      "[2 8 6 ... 2 3 7] [8 2 5 ... 3 2 9]\n",
      "0.22885365853658537\n",
      "Iteration:  30\n",
      "[2 8 6 ... 2 3 7] [8 2 5 ... 3 2 9]\n",
      "0.2826341463414634\n",
      "Iteration:  40\n",
      "[1 2 6 ... 2 3 7] [8 2 5 ... 3 2 9]\n",
      "0.3338780487804878\n",
      "Iteration:  50\n",
      "[1 2 6 ... 2 3 7] [8 2 5 ... 3 2 9]\n",
      "0.3763658536585366\n",
      "Iteration:  60\n",
      "[8 2 6 ... 2 2 7] [8 2 5 ... 3 2 9]\n",
      "0.41297560975609754\n",
      "Iteration:  70\n",
      "[8 2 6 ... 2 2 7] [8 2 5 ... 3 2 9]\n",
      "0.4476829268292683\n",
      "Iteration:  80\n",
      "[8 2 6 ... 2 2 7] [8 2 5 ... 3 2 9]\n",
      "0.4790731707317073\n",
      "Iteration:  90\n",
      "[8 2 6 ... 2 2 7] [8 2 5 ... 3 2 9]\n",
      "0.5045121951219512\n",
      "Iteration:  100\n",
      "[8 2 6 ... 2 2 7] [8 2 5 ... 3 2 9]\n",
      "0.5274146341463415\n",
      "Iteration:  110\n",
      "[8 2 6 ... 2 2 7] [8 2 5 ... 3 2 9]\n",
      "0.5460487804878049\n",
      "Iteration:  120\n",
      "[8 2 6 ... 2 2 7] [8 2 5 ... 3 2 9]\n",
      "0.5695853658536585\n",
      "Iteration:  130\n",
      "[8 2 6 ... 8 2 7] [8 2 5 ... 3 2 9]\n",
      "0.5942195121951219\n",
      "Iteration:  140\n",
      "[8 2 6 ... 8 3 7] [8 2 5 ... 3 2 9]\n",
      "0.6173414634146341\n",
      "Iteration:  150\n",
      "[8 2 6 ... 8 3 4] [8 2 5 ... 3 2 9]\n",
      "0.6372439024390244\n",
      "Iteration:  160\n",
      "[8 2 6 ... 8 3 4] [8 2 5 ... 3 2 9]\n",
      "0.6577073170731708\n",
      "Iteration:  170\n",
      "[8 2 6 ... 8 3 9] [8 2 5 ... 3 2 9]\n",
      "0.6751951219512196\n",
      "Iteration:  180\n",
      "[8 2 6 ... 8 3 9] [8 2 5 ... 3 2 9]\n",
      "0.6918048780487804\n",
      "Iteration:  190\n",
      "[8 2 6 ... 8 3 9] [8 2 5 ... 3 2 9]\n",
      "0.707\n",
      "Iteration:  200\n",
      "[8 2 6 ... 8 3 9] [8 2 5 ... 3 2 9]\n",
      "0.7198536585365853\n",
      "Iteration:  210\n",
      "[8 2 6 ... 8 3 9] [8 2 5 ... 3 2 9]\n",
      "0.7308292682926829\n",
      "Iteration:  220\n",
      "[8 2 6 ... 8 3 9] [8 2 5 ... 3 2 9]\n",
      "0.7401463414634146\n",
      "Iteration:  230\n",
      "[8 2 6 ... 8 3 9] [8 2 5 ... 3 2 9]\n",
      "0.7492439024390244\n",
      "Iteration:  240\n",
      "[8 2 6 ... 8 3 9] [8 2 5 ... 3 2 9]\n",
      "0.7576341463414634\n",
      "Iteration:  250\n",
      "[8 2 6 ... 8 3 9] [8 2 5 ... 3 2 9]\n",
      "0.7649024390243903\n",
      "Iteration:  260\n",
      "[8 2 6 ... 8 3 9] [8 2 5 ... 3 2 9]\n",
      "0.7725121951219512\n",
      "Iteration:  270\n",
      "[8 2 6 ... 8 3 9] [8 2 5 ... 3 2 9]\n",
      "0.7783414634146342\n",
      "Iteration:  280\n",
      "[8 2 4 ... 8 3 9] [8 2 5 ... 3 2 9]\n",
      "0.7844390243902439\n",
      "Iteration:  290\n",
      "[8 2 4 ... 8 3 9] [8 2 5 ... 3 2 9]\n",
      "0.7897560975609756\n",
      "Iteration:  300\n",
      "[8 2 4 ... 8 3 9] [8 2 5 ... 3 2 9]\n",
      "0.7941219512195122\n",
      "Iteration:  310\n",
      "[8 2 4 ... 8 2 9] [8 2 5 ... 3 2 9]\n",
      "0.7985365853658537\n",
      "Iteration:  320\n",
      "[8 2 4 ... 8 2 9] [8 2 5 ... 3 2 9]\n",
      "0.803\n",
      "Iteration:  330\n",
      "[8 2 4 ... 8 2 9] [8 2 5 ... 3 2 9]\n",
      "0.8070975609756098\n",
      "Iteration:  340\n",
      "[8 2 4 ... 8 2 9] [8 2 5 ... 3 2 9]\n",
      "0.8104146341463415\n",
      "Iteration:  350\n",
      "[8 2 4 ... 8 2 9] [8 2 5 ... 3 2 9]\n",
      "0.8141219512195121\n",
      "Iteration:  360\n",
      "[8 2 4 ... 8 2 9] [8 2 5 ... 3 2 9]\n",
      "0.8169024390243902\n",
      "Iteration:  370\n",
      "[8 2 4 ... 8 2 9] [8 2 5 ... 3 2 9]\n",
      "0.82\n",
      "Iteration:  380\n",
      "[8 2 4 ... 8 2 9] [8 2 5 ... 3 2 9]\n",
      "0.8228292682926829\n",
      "Iteration:  390\n",
      "[8 2 4 ... 8 2 9] [8 2 5 ... 3 2 9]\n",
      "0.8256097560975609\n",
      "Iteration:  400\n",
      "[8 2 4 ... 8 2 9] [8 2 5 ... 3 2 9]\n",
      "0.8279512195121951\n",
      "Iteration:  410\n",
      "[8 2 4 ... 8 2 9] [8 2 5 ... 3 2 9]\n",
      "0.8300975609756097\n",
      "Iteration:  420\n",
      "[8 2 4 ... 8 2 9] [8 2 5 ... 3 2 9]\n",
      "0.8326585365853658\n",
      "Iteration:  430\n",
      "[8 2 4 ... 8 2 9] [8 2 5 ... 3 2 9]\n",
      "0.8348292682926829\n",
      "Iteration:  440\n",
      "[8 2 4 ... 8 2 9] [8 2 5 ... 3 2 9]\n",
      "0.8361951219512195\n",
      "Iteration:  450\n",
      "[8 2 4 ... 8 2 9] [8 2 5 ... 3 2 9]\n",
      "0.8380487804878048\n",
      "Iteration:  460\n",
      "[8 2 4 ... 8 2 9] [8 2 5 ... 3 2 9]\n",
      "0.8401219512195122\n",
      "Iteration:  470\n",
      "[8 2 4 ... 8 2 9] [8 2 5 ... 3 2 9]\n",
      "0.8415365853658536\n",
      "Iteration:  480\n",
      "[8 2 4 ... 8 2 9] [8 2 5 ... 3 2 9]\n",
      "0.8431463414634146\n",
      "Iteration:  490\n",
      "[8 2 4 ... 8 2 9] [8 2 5 ... 3 2 9]\n",
      "0.844609756097561\n"
     ]
    }
   ],
   "source": [
    "W1, b1, W2, b2 = gradient_descent(X_train, Y_train, 0.10, 500)"
   ]
  },
  {
   "cell_type": "markdown",
   "metadata": {},
   "source": [
    "84% accuracy "
   ]
  },
  {
   "cell_type": "code",
   "execution_count": 21,
   "metadata": {
    "execution": {
     "iopub.execute_input": "2024-11-07T22:22:46.859433Z",
     "iopub.status.busy": "2024-11-07T22:22:46.858950Z",
     "iopub.status.idle": "2024-11-07T22:22:46.869349Z",
     "shell.execute_reply": "2024-11-07T22:22:46.868041Z",
     "shell.execute_reply.started": "2024-11-07T22:22:46.859395Z"
    },
    "trusted": true
   },
   "outputs": [],
   "source": [
    "def make_predictions(X, W1, b1, W2, b2):\n",
    "    _, _, _, A2 = forward_prop(W1, b1, W2, b2, X)\n",
    "    predictions = get_predictions(A2)\n",
    "    return predictions\n",
    "\n",
    "def test_prediction(index, W1, b1, W2, b2):\n",
    "    current_image = X_train[:, index, None]\n",
    "    prediction = make_predictions(X_train[:, index, None], W1, b1, W2, b2)\n",
    "    label = Y_train[index]\n",
    "    print(\"Prediction: \", prediction)\n",
    "    print(\"Label: \", label)\n",
    "    \n",
    "    current_image = current_image.reshape((28, 28)) * 255\n",
    "    plt.gray()\n",
    "    plt.imshow(current_image, interpolation='nearest')\n",
    "    plt.show()"
   ]
  },
  {
   "cell_type": "code",
   "execution_count": 22,
   "metadata": {
    "execution": {
     "iopub.execute_input": "2024-11-07T22:22:49.273570Z",
     "iopub.status.busy": "2024-11-07T22:22:49.273067Z",
     "iopub.status.idle": "2024-11-07T22:22:50.352230Z",
     "shell.execute_reply": "2024-11-07T22:22:50.350934Z",
     "shell.execute_reply.started": "2024-11-07T22:22:49.273516Z"
    },
    "trusted": true
   },
   "outputs": [
    {
     "name": "stdout",
     "output_type": "stream",
     "text": [
      "Prediction:  [8]\n",
      "Label:  8\n"
     ]
    },
    {
     "data": {
      "image/png": "[encoded data removed]",
      "text/plain": [
       "<Figure size 640x480 with 1 Axes>"
      ]
     },
     "metadata": {},
     "output_type": "display_data"
    },
    {
     "name": "stdout",
     "output_type": "stream",
     "text": [
      "Prediction:  [2]\n",
      "Label:  2\n"
     ]
    },
    {
     "data": {
      "image/png": "[encoded data removed]",
      "text/plain": [
       "<Figure size 640x480 with 1 Axes>"
      ]
     },
     "metadata": {},
     "output_type": "display_data"
    },
    {
     "name": "stdout",
     "output_type": "stream",
     "text": [
      "Prediction:  [4]\n",
      "Label:  5\n"
     ]
    },
    {
     "data": {
      "image/png": "[encoded data removed]",
      "text/plain": [
       "<Figure size 640x480 with 1 Axes>"
      ]
     },
     "metadata": {},
     "output_type": "display_data"
    },
    {
     "name": "stdout",
     "output_type": "stream",
     "text": [
      "Prediction:  [7]\n",
      "Label:  7\n"
     ]
    },
    {
     "data": {
      "image/png": "[encoded data removed]",
      "text/plain": [
       "<Figure size 640x480 with 1 Axes>"
      ]
     },
     "metadata": {},
     "output_type": "display_data"
    }
   ],
   "source": [
    "\n",
    "\n",
    "test_prediction(0, W1, b1, W2, b2)\n",
    "test_prediction(1, W1, b1, W2, b2)\n",
    "test_prediction(2, W1, b1, W2, b2)\n",
    "test_prediction(3, W1, b1, W2, b2)"
   ]
  },
  {
   "cell_type": "code",
   "execution_count": 24,
   "metadata": {
    "execution": {
     "iopub.execute_input": "2024-11-07T22:23:08.265713Z",
     "iopub.status.busy": "2024-11-07T22:23:08.265235Z",
     "iopub.status.idle": "2024-11-07T22:23:08.297636Z",
     "shell.execute_reply": "2024-11-07T22:23:08.295977Z",
     "shell.execute_reply.started": "2024-11-07T22:23:08.265676Z"
    },
    "trusted": true
   },
   "outputs": [
    {
     "name": "stdout",
     "output_type": "stream",
     "text": [
      "[4 7 7 3 9 0 2 0 3 9 3 0 4 7 9 1 8 8 6 9 2 1 4 6 5 4 8 3 5 1 2 7 4 4 1 1 8\n",
      " 4 4 7 6 7 6 6 3 1 6 5 0 9 7 1 6 8 8 0 9 1 1 3 1 2 3 5 0 8 6 3 4 7 4 9 7 2\n",
      " 3 5 2 4 2 9 3 8 1 0 4 3 2 9 5 2 2 8 4 5 5 0 3 6 4 8 6 9 0 7 8 2 5 6 6 3 6\n",
      " 7 6 7 8 7 1 8 6 8 5 4 7 8 7 3 0 2 3 6 7 1 2 4 7 7 6 1 0 5 6 1 7 9 4 8 5 4\n",
      " 0 9 9 0 5 4 0 4 5 8 0 5 7 1 5 0 4 4 8 4 5 7 8 2 2 2 4 9 0 7 0 2 9 2 7 8 3\n",
      " 5 0 1 3 7 7 8 5 5 7 0 9 3 9 4 2 2 1 0 4 3 3 3 3 6 7 6 9 3 4 1 1 2 8 6 7 9\n",
      " 0 3 6 6 9 8 3 5 7 0 3 6 0 5 0 5 7 6 6 9 4 2 6 5 2 7 1 7 3 3 7 3 0 5 6 0 0\n",
      " 9 6 1 0 6 8 9 9 9 1 8 3 3 1 2 1 7 1 7 2 1 8 9 0 1 6 5 8 8 8 3 1 6 0 3 8 3\n",
      " 2 9 3 9 9 2 1 9 4 7 4 0 6 2 5 8 4 3 8 0 1 8 8 6 4 2 1 3 8 5 9 6 0 4 5 7 2\n",
      " 7 8 3 7 8 6 0 3 9 8 5 5 1 7 8 2 0 1 0 0 2 7 1 9 5 2 3 0 6 9 8 8 4 3 2 2 6\n",
      " 0 6 1 1 1 1 7 8 7 0 1 4 3 9 7 3 0 7 5 7 5 1 8 5 1 3 0 3 6 6 2 8 7 9 2 4 1\n",
      " 8 0 8 1 0 4 0 9 5 1 9 9 5 6 7 7 9 0 1 2 1 7 0 7 1 3 3 8 6 9 6 6 7 0 6 5 2\n",
      " 9 2 1 8 3 6 1 7 4 3 4 2 0 7 7 6 2 5 6 4 7 2 6 9 4 5 3 3 2 4 6 8 9 3 8 0 7\n",
      " 9 9 5 2 7 9 1 1 8 8 4 2 1 4 9 3 7 1 1 2 4 8 7 1 0 1 5 8 3 1 4 0 2 9 9 0 1\n",
      " 0 7 9 0 2 8 5 1 7 5 8 6 6 2 6 1 8 3 4 1 3 9 4 2 8 1 2 2 0 7 7 1 3 9 1 8 1\n",
      " 9 6 1 5 9 4 4 6 6 7 1 1 6 9 3 4 2 6 4 3 7 8 8 8 0 1 3 9 6 7 3 7 7 6 8 0 2\n",
      " 9 3 6 6 6 2 0 3 2 8 9 9 7 8 2 2 0 7 8 0 4 3 5 6 7 3 2 5 4 3 3 4 4 8 1 7 8\n",
      " 1 6 4 3 8 2 1 4 4 9 8 5 3 4 5 8 7 9 0 1 7 3 3 2 6 1 4 3 1 4 6 7 7 8 5 5 4\n",
      " 7 5 7 4 7 0 6 2 6 1 0 8 0 8 9 5 1 3 1 6 7 3 0 5 4 6 3 4 4 9 3 9 7 4 7 6 2\n",
      " 9 2 0 7 5 9 6 6 7 4 0 9 5 0 8 7 8 6 8 0 1 7 3 7 4 0 8 0 6 8 0 9 4 0 6 3 3\n",
      " 9 5 7 3 2 4 1 1 4 7 8 5 6 0 4 6 8 8 8 8 2 6 8 5 0 1 4 8 6 7 7 7 1 2 6 4 9\n",
      " 6 5 2 5 5 4 1 7 8 8 3 6 5 6 1 9 3 4 1 3 1 0 9 6 8 1 1 1 0 8 3 1 7 0 8 2 9\n",
      " 3 8 0 3 5 7 8 5 6 6 4 0 7 0 4 1 4 6 0 1 4 5 1 0 5 1 4 6 6 0 1 0 6 1 6 7 4\n",
      " 9 1 1 0 2 1 0 5 6 8 2 8 2 3 4 5 1 5 2 8 9 6 3 0 8 6 3 0 1 0 5 8 1 6 1 5 6\n",
      " 7 4 3 7 6 5 4 8 3 5 2 3 0 5 9 5 3 6 1 1 7 1 1 4 7 1 8 6 1 1 5 9 1 3 6 2 7\n",
      " 4 7 9 7 2 6 4 1 6 3 6 5 1 8 6 4 3 6 2 1 5 5 8 4 9 4 8 2 6 0 3 6 2 9 3 0 7\n",
      " 2 6 2 2 7 6 4 0 8 6 7 6 1 3 0 6 6 5 7 2 2 1 7 1 9 4 8 2 9 8 1 8 3 2 9 9 3\n",
      " 4] [9 7 7 3 9 0 2 0 3 9 3 0 5 7 9 1 8 8 6 9 2 1 4 6 5 4 8 3 5 1 2 7 4 9 1 1 8\n",
      " 9 4 7 6 7 6 6 3 1 6 3 0 9 7 1 6 8 1 7 8 1 1 8 1 2 3 5 0 5 6 3 4 7 4 9 7 2\n",
      " 3 5 8 4 2 9 3 8 1 0 4 3 6 9 5 2 2 8 4 5 5 0 3 6 7 8 6 9 0 3 3 2 5 6 4 3 6\n",
      " 9 6 7 2 9 1 8 5 8 8 4 7 8 7 7 0 2 3 6 7 1 2 4 7 7 6 1 0 8 6 1 7 9 4 8 2 4\n",
      " 0 9 9 0 0 4 6 9 5 8 0 8 7 1 3 0 4 4 8 4 5 7 8 6 2 2 4 9 0 7 0 2 9 2 7 8 3\n",
      " 5 0 1 3 7 7 8 5 3 7 0 4 3 9 9 2 2 1 0 4 3 3 3 3 2 7 6 9 3 4 1 8 2 8 6 7 9\n",
      " 0 3 0 6 0 8 3 0 9 0 3 6 0 8 0 3 2 6 6 9 4 2 6 8 2 7 1 7 2 3 7 3 0 5 6 0 0\n",
      " 9 6 7 0 4 8 4 9 9 1 8 3 3 1 0 1 9 1 7 2 1 8 8 0 1 6 5 5 8 8 3 1 6 0 3 8 5\n",
      " 5 9 3 9 9 2 1 4 9 7 4 0 6 2 5 8 4 3 8 0 2 2 8 6 4 2 1 3 8 5 9 6 0 4 5 7 2\n",
      " 7 8 3 7 8 8 0 6 9 8 5 5 1 7 8 2 0 1 0 9 1 7 1 7 5 2 3 0 6 9 1 8 4 3 2 2 6\n",
      " 0 6 1 1 1 1 7 8 7 0 1 4 3 9 7 3 0 7 5 7 5 1 8 5 1 3 0 3 6 6 2 8 7 7 2 9 1\n",
      " 8 0 8 1 0 9 0 9 5 1 7 4 3 6 7 7 9 0 1 2 7 9 6 7 1 3 3 8 6 9 6 6 7 0 5 5 6\n",
      " 9 2 1 8 3 6 1 7 4 3 4 2 0 7 7 4 2 5 5 4 7 2 5 9 4 5 3 3 2 4 3 8 9 3 8 0 7\n",
      " 9 9 1 2 9 9 1 1 8 5 4 2 1 9 9 3 7 1 1 2 6 8 7 2 0 1 5 8 2 7 4 5 6 9 9 0 1\n",
      " 0 7 9 0 2 8 5 1 7 5 1 6 6 2 5 1 8 3 4 1 3 2 4 2 8 1 2 2 0 7 7 1 3 9 1 0 1\n",
      " 9 6 1 5 9 4 4 6 6 7 1 1 6 9 3 4 7 6 9 3 7 8 8 8 5 1 3 9 6 7 3 7 9 6 2 5 2\n",
      " 9 3 6 8 6 2 0 3 2 8 9 9 7 8 2 2 0 7 8 0 4 3 5 6 7 3 2 5 2 3 9 9 4 8 4 7 8\n",
      " 3 6 4 3 8 2 1 4 9 8 3 5 3 4 6 0 7 3 0 1 7 3 3 6 6 1 4 3 1 4 6 7 7 8 5 5 4\n",
      " 5 5 7 4 3 0 6 2 4 1 0 1 0 8 8 5 1 3 1 5 7 3 0 5 5 6 1 8 4 9 3 1 7 4 7 6 3\n",
      " 9 2 0 7 5 9 6 6 7 4 0 9 5 0 8 7 3 6 8 0 1 7 3 7 4 0 5 0 6 8 0 9 4 0 6 3 3\n",
      " 9 5 7 3 0 4 1 1 9 7 8 5 6 0 4 6 6 0 8 8 2 6 8 1 0 1 4 8 6 7 7 7 1 2 6 4 9\n",
      " 6 5 2 6 0 4 1 7 8 8 3 6 5 5 1 2 3 4 1 2 1 0 9 4 8 1 1 1 0 8 3 1 7 0 8 6 9\n",
      " 2 3 0 3 5 7 8 5 6 6 4 0 7 0 6 1 4 6 0 1 4 8 1 0 5 1 4 6 6 0 1 0 5 1 6 7 4\n",
      " 9 1 1 0 3 1 0 5 6 8 2 8 2 3 4 8 1 5 2 8 9 6 3 0 8 6 3 0 1 2 5 8 1 6 1 5 6\n",
      " 7 4 3 7 5 5 4 8 3 3 2 3 0 5 9 4 3 6 1 4 7 1 1 9 7 1 8 6 1 1 5 9 1 3 5 2 7\n",
      " 9 9 9 7 4 6 6 1 6 7 0 5 1 8 5 9 3 6 2 1 5 5 3 4 9 4 5 6 6 0 3 6 2 9 8 0 7\n",
      " 2 6 2 2 7 6 4 0 8 6 2 6 1 3 0 6 6 5 7 2 2 1 7 1 4 4 1 2 9 8 8 8 3 2 9 9 3\n",
      " 4]\n"
     ]
    },
    {
     "data": {
      "text/plain": [
       "0.834"
      ]
     },
     "execution_count": 24,
     "metadata": {},
     "output_type": "execute_result"
    }
   ],
   "source": [
    "dev_predictions = make_predictions(X_dev, W1, b1, W2, b2)\n",
    "get_accuracy(dev_predictions, Y_dev)"
   ]
  },
  {
   "cell_type": "markdown",
   "metadata": {},
   "source": [
    "83.5% accuracy "
   ]
  }
 ],
 "metadata": {
  "kaggle": {
   "accelerator": "none",
   "dataSources": [
    {
     "databundleVersionId": 861823,
     "sourceId": 3004,
     "sourceType": "competition"
    }
   ],
   "dockerImageVersionId": 30746,
   "isGpuEnabled": false,
   "isInternetEnabled": false,
   "language": "python",
   "sourceType": "notebook"
  },
  "kernelspec": {
   "display_name": "Python 3",
   "language": "python",
   "name": "python3"
  },
  "language_info": {
   "codemirror_mode": {
    "name": "ipython",
    "version": 3
   },
   "file_extension": ".py",
   "mimetype": "text/x-python",
   "name": "python",
   "nbconvert_exporter": "python",
   "pygments_lexer": "ipython3",
   "version": "3.12.7"
  }
 },
 "nbformat": 4,
 "nbformat_minor": 4
}
